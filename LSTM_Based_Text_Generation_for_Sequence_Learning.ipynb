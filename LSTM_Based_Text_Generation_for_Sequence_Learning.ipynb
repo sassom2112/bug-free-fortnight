{
  "nbformat": 4,
  "nbformat_minor": 0,
  "metadata": {
    "colab": {
      "provenance": [],
      "machine_shape": "hm",
      "gpuType": "L4"
    },
    "kernelspec": {
      "name": "python3",
      "display_name": "Python 3"
    },
    "language_info": {
      "name": "python"
    },
    "accelerator": "GPU"
  },
  "cells": [
    {
      "cell_type": "markdown",
      "source": [
        "### Importing Libraries and Device Configuration\n",
        "\n",
        "#### **1. Library Imports**\n",
        "This project uses the following libraries:\n",
        "- **`io`**: For file handling and working with text data.\n",
        "- **`unicodedata` and `string`**: To preprocess text data by normalizing Unicode characters and handling strings.\n",
        "- **`random` and `re`**: For random operations and regex-based text processing.\n",
        "- **PyTorch**:\n",
        "  - **`torch`**: Core library for deep learning.\n",
        "  - **`torch.nn`**: For defining neural network layers and architectures.\n",
        "  - **`torch.utils.data`**: For handling datasets and creating data loaders.\n",
        "- **`numpy`**: For numerical operations on arrays and tensors.\n",
        "- **`matplotlib.pyplot`**: To visualize results and metrics.\n",
        "- **`sklearn.metrics`**: To calculate evaluation metrics like accuracy, precision, and recall.\n",
        "\n",
        "#### **2. Device Configuration**\n",
        "- **`device = torch.device(\"cuda\" if torch.cuda.is_available() else \"cpu\")`**:\n",
        "  - Sets the computation device to **GPU** if available for faster processing, otherwise defaults to **CPU**.\n",
        "\n"
      ],
      "metadata": {
        "id": "mo8PCKGRbphK"
      }
    },
    {
      "cell_type": "code",
      "execution_count": null,
      "metadata": {
        "id": "4Mg6vDECW4vJ"
      },
      "outputs": [],
      "source": [
        "from io import open\n",
        "import unicodedata\n",
        "import string\n",
        "import random\n",
        "import re\n",
        "\n",
        "import torch\n",
        "import torch.nn as nn\n",
        "import numpy as np\n",
        "from torch.utils.data import Subset\n",
        "from torch.utils.data import TensorDataset, DataLoader\n",
        "import time, copy\n",
        "import matplotlib.pyplot as plt\n",
        "import sklearn.metrics as metrics\n",
        "\n",
        "device = torch.device(\"cuda\" if torch.cuda.is_available() else \"cpu\")"
      ]
    },
    {
      "cell_type": "markdown",
      "source": [
        "### Downloading and Preparing the Dataset\n",
        "\n",
        "#### **Code Explanation**\n",
        "1. **Remove Existing Files**:\n",
        "   - **`!rm spa-eng.zip _about.txt spa.txt`**:\n",
        "     - Deletes any previously downloaded or extracted files to ensure a clean setup.\n",
        "\n",
        "2. **Download the Dataset**:\n",
        "   - **`!wget https://www.manythings.org/anki/spa-eng.zip`**:\n",
        "     - Downloads a zipped text file containing English-to-Spanish phrase translations from the [Tatoeba Project](https://tatoeba.org/).\n",
        "\n",
        "3. **Unzip the File**:\n",
        "   - **`!unzip spa-eng.zip`**:\n",
        "     - Extracts the downloaded zip file to obtain the `spa.txt` file, which contains the translations.\n",
        "\n",
        "4. **List Extracted Files**:\n",
        "   - **`!ls`**:\n",
        "     - Displays the files in the current directory to confirm successful extraction.\n",
        "\n"
      ],
      "metadata": {
        "id": "aJUSNu7FbyEZ"
      }
    },
    {
      "cell_type": "code",
      "source": [
        "# Here we download and unzip the text file that contains all of our translated phrases\n",
        "!rm spa-eng.zip _about.txt spa.txt\n",
        "!wget https://www.manythings.org/anki/spa-eng.zip\n",
        "!unzip spa-eng.zip\n",
        "!ls"
      ],
      "metadata": {
        "colab": {
          "base_uri": "https://localhost:8080/"
        },
        "id": "QA2QLpUWXA6d",
        "outputId": "18407b3d-2c83-4352-a3c5-28ba3f244c86"
      },
      "execution_count": null,
      "outputs": [
        {
          "output_type": "stream",
          "name": "stdout",
          "text": [
            "--2024-11-13 23:03:36--  https://www.manythings.org/anki/spa-eng.zip\n",
            "Resolving www.manythings.org (www.manythings.org)... 173.254.30.110\n",
            "Connecting to www.manythings.org (www.manythings.org)|173.254.30.110|:443... connected.\n",
            "HTTP request sent, awaiting response... 200 OK\n",
            "Length: 5420295 (5.2M) [application/zip]\n",
            "Saving to: ‘spa-eng.zip’\n",
            "\n",
            "spa-eng.zip         100%[===================>]   5.17M  2.97MB/s    in 1.7s    \n",
            "\n",
            "2024-11-13 23:03:38 (2.97 MB/s) - ‘spa-eng.zip’ saved [5420295/5420295]\n",
            "\n",
            "Archive:  spa-eng.zip\n",
            "  inflating: _about.txt              \n",
            "  inflating: spa.txt                 \n",
            "_about.txt  sample_data  spa-eng.zip  spa.txt\n"
          ]
        }
      ]
    },
    {
      "cell_type": "markdown",
      "source": [
        "### Preprocessing Text Data\n",
        "\n",
        "#### **1. `unicodeToAscii(s)`**\n",
        "- **Purpose**: Converts a Unicode string into ASCII by normalizing characters.\n",
        "- **How It Works**:\n",
        "  - Uses `unicodedata.normalize('NFD', s)` to decompose Unicode characters into base characters and diacritics.\n",
        "  - Filters out diacritics (`Mn` category), leaving only base characters.\n"
      ],
      "metadata": {
        "id": "9GM4PpvRb-p9"
      }
    },
    {
      "cell_type": "code",
      "source": [
        "def unicodeToAscii(s):\n",
        "    return ''.join(\n",
        "        c for c in unicodedata.normalize('NFD', s)\n",
        "        if unicodedata.category(c) != 'Mn'\n",
        "    )\n",
        "\n",
        "# Lowercase, trim, and remove non-letter characters\n",
        "def normalizeString(s):\n",
        "    s = unicodeToAscii(s.lower().strip())\n",
        "    s = re.sub(r\"([.!?])\", r\"\", s)\n",
        "    s = re.sub(r\"[^a-zA-Z.!'?]+\", r\" \", s)\n",
        "    return s\n",
        "\n",
        "def parse_data(filename):\n",
        "    lines = open(filename, encoding='utf-8').read().strip().split('\\n')\n",
        "    pairs = [[normalizeString(s) for s in l.split('\\t')] for l in lines]\n",
        "    pairs = [[pair[0], pair[1]] for pair in pairs]\n",
        "    return pairs"
      ],
      "metadata": {
        "id": "hDwcGmxhXCIR"
      },
      "execution_count": null,
      "outputs": []
    },
    {
      "cell_type": "markdown",
      "source": [
        "### Splitting Data into Training, Validation, and Test Sets\n",
        "\n",
        "#### **1. Parse Data**\n",
        "- **`pairs = parse_data(\"spa.txt\")`**:\n",
        "  - Reads and preprocesses the `spa.txt` file using the `parse_data` function.\n",
        "  - Converts the dataset into a list of normalized English-Spanish sentence pairs.\n",
        "\n",
        "#### **2. Extract English Sentences**\n",
        "- **`english_sentences = [pair[0] for pair in pairs]`**:\n",
        "  - Extracts all English sentences from the parsed data.\n",
        "  - Each sentence corresponds to the first element in each sentence pair.\n",
        "\n",
        "#### **3. Shuffle the Data**\n",
        "- **`random.shuffle(english_sentences)`**:\n",
        "  - Randomizes the order of English sentences to ensure the dataset is not biased by its original order.\n",
        "\n",
        "#### **4. Data Splitting**\n",
        "- Divides the shuffled English sentences into:\n",
        "  - **Training Set**: First 1,000 sentences (`train_sentences`).\n",
        "  - **Validation Set**: Next 1,000 sentences (`val_sentences`).\n",
        "  - **Test Set**: Following 1,000 sentences (`test_sentences`).\n",
        "- **Purpose**:\n",
        "  - Training set: Used to train the model.\n",
        "  - Validation set: Used to tune hyperparameters and evaluate during training.\n",
        "  - Test set: Used to evaluate the model's performance on unseen data.\n",
        "\n"
      ],
      "metadata": {
        "id": "HYcgodqgcJba"
      }
    },
    {
      "cell_type": "code",
      "source": [
        "pairs = parse_data(\"spa.txt\")\n",
        "english_sentences = [pair[0] for pair in pairs]\n",
        "random.shuffle(english_sentences)\n",
        "print(\"Number of English sentences:\", len(english_sentences))\n",
        "\n",
        "train_sentences = english_sentences[:1000]\n",
        "val_sentences = english_sentences[1000:2000]\n",
        "test_sentences = english_sentences[2000:3000]"
      ],
      "metadata": {
        "colab": {
          "base_uri": "https://localhost:8080/"
        },
        "id": "9M53QhbKXXA3",
        "outputId": "e70ba2d9-5f94-4ea5-9b74-7724cf4470c0"
      },
      "execution_count": null,
      "outputs": [
        {
          "output_type": "stream",
          "name": "stdout",
          "text": [
            "Number of English sentences: 141543\n"
          ]
        }
      ]
    },
    {
      "cell_type": "markdown",
      "source": [
        "### Creating a Dictionary for One-Hot Encoding\n",
        "\n",
        "#### **Function: `add_words_to_dict`**\n",
        "This function creates a dictionary of unique words from a list of sentences and assigns each word a unique index for use in one-hot encoding.\n",
        "\n",
        "#### **Parameters**\n",
        "1. **`word_dictionary`**: A dictionary where each word is mapped to a unique index.\n",
        "2. **`word_list`**: A list that keeps track of all unique words in the same order as the dictionary.\n",
        "3. **`sentences`**: A list of sentences from which words are extracted.\n",
        "\n",
        "#### **How It Works**\n",
        "1. Iterates over each sentence in the `sentences` list.\n",
        "2. Splits each sentence into individual words using `.split(\" \")`.\n",
        "3. Checks if a word is already in the dictionary:\n",
        "   - **If the word is not in the dictionary**:\n",
        "     - Adds the word to `word_list`.\n",
        "     - Assigns it an index in the dictionary based on its position in the `word_list`.\n"
      ],
      "metadata": {
        "id": "54T8pwYlcRfC"
      }
    },
    {
      "cell_type": "code",
      "source": [
        "# Using this function we will create a dictionary to use for our one hot encoding vectors\n",
        "def add_words_to_dict(word_dictionary, word_list, sentences):\n",
        "    for sentence in sentences:\n",
        "        for word in sentence.split(\" \"):\n",
        "            if word in word_dictionary:\n",
        "                continue\n",
        "            else:\n",
        "                word_list.append(word)\n",
        "                word_dictionary[word] = len(word_list)-1\n",
        "\n",
        "english_dictionary = {}\n",
        "english_list = []\n",
        "add_words_to_dict(english_dictionary, english_list, train_sentences)\n",
        "add_words_to_dict(english_dictionary, english_list, val_sentences)\n",
        "add_words_to_dict(english_dictionary, english_list, test_sentences)"
      ],
      "metadata": {
        "id": "pLQzKdGcXdjj"
      },
      "execution_count": null,
      "outputs": []
    },
    {
      "cell_type": "markdown",
      "source": [
        "### Creating Input and Target Tensors for Sequence Modeling\n",
        "\n",
        "#### **1. Function: `create_input_tensor`**\n",
        "- **Purpose**: Converts a sentence into a one-hot encoded tensor for input to the model.\n",
        "- **Steps**:\n",
        "  1. Splits the sentence into words.\n",
        "  2. Initializes a 3D tensor with dimensions:\n",
        "     - Length of the sentence (number of words).\n",
        "     - Batch size (1 for simplicity).\n",
        "     - Vocabulary size (`len(word_dictionary) + 1`).\n",
        "  3. For each word:\n",
        "     - Checks if it exists in the dictionary.\n",
        "     - Sets the corresponding index to `1` in the one-hot encoding.\n",
        "\n",
        "#### 2. **Function: `create_target_tensor`**\n",
        "- **Purpose**: Converts a sentence into a one-hot encoded tensor for the target sequence.\n",
        "- **Steps**:\n",
        "Similar to `create_input_tensor`, but with an offset:\n",
        "- Maps each word in the sentence to the next word in the sequence.\n",
        "- Adds an End of Sequence (EOS) token at the end of the tensor to signify the end of the target sequence.\n",
        "\n",
        "#### 3. **Creating Dataset Tensors**\n",
        "- Creates input and target tensor pairs for each sentence in the training set.\n",
        "- Validation and Test Tensors: Similar process is used for validation (val_tensors) and test (test_tensors) datasets."
      ],
      "metadata": {
        "id": "3QQCQ-30cdKq"
      }
    },
    {
      "cell_type": "code",
      "source": [
        "def create_input_tensor(sentence, word_dictionary):\n",
        "    words = sentence.split(\" \")\n",
        "    tensor = torch.zeros(len(words), 1, len(word_dictionary) + 1)\n",
        "    for idx, word in enumerate(words):\n",
        "        if word in word_dictionary:\n",
        "            tensor[idx][0][word_dictionary[word]] = 1\n",
        "    return tensor\n",
        "\n",
        "def create_target_tensor(sentence, word_dictionary):\n",
        "    words = sentence.split(\" \")\n",
        "    tensor = torch.zeros(len(words), 1, len(word_dictionary) + 1)\n",
        "    for idx in range(1, len(words)):\n",
        "        word = words[idx]\n",
        "        if word in word_dictionary:\n",
        "            tensor[idx - 1][0][word_dictionary[word]] = 1\n",
        "    tensor[len(words) - 1][0][len(word_dictionary)] = 1 # EOS\n",
        "    return tensor\n",
        "\n",
        "train_tensors = [(create_input_tensor(sentence, english_dictionary), create_target_tensor(sentence, english_dictionary)) for sentence in train_sentences]\n",
        "val_tensors = [(create_input_tensor(sentence, english_dictionary), create_target_tensor(sentence, english_dictionary)) for sentence in val_sentences]\n",
        "test_tensors = [(create_input_tensor(sentence, english_dictionary), create_target_tensor(sentence, english_dictionary)) for sentence in test_sentences]"
      ],
      "metadata": {
        "id": "Sfo9y24ZXkG6"
      },
      "execution_count": null,
      "outputs": []
    },
    {
      "cell_type": "markdown",
      "source": [
        "### Organizing Data for Model Training and Evaluation\n",
        "\n",
        "#### **Creating Dataloaders**\n",
        "- **`dataloaders`**:\n",
        "  - A dictionary that organizes the preprocessed dataset tensors into training, validation, and test sets.\n",
        "  - Each key (`'train'`, `'val'`, `'test'`) corresponds to a list of tuples where:\n",
        "    - The first element of each tuple is an input tensor.\n",
        "    - The second element is the corresponding target tensor.\n",
        "\n",
        "#### **Calculating Dataset Sizes**\n",
        "- **`dataset_sizes`**:\n",
        "  - A dictionary that stores the size (number of samples) for each phase of the dataset (`'train'`, `'val'`, `'test'`).\n",
        "    - Iterates over the `dataloaders` dictionary and calculates the length of each dataset phase.\n"
      ],
      "metadata": {
        "id": "P6oXqQzudfVk"
      }
    },
    {
      "cell_type": "code",
      "source": [
        "dataloaders = {'train': train_tensors, 'val': val_tensors, 'test': test_tensors}\n",
        "dataset_sizes = {phase: len(dataloaders[phase]) for phase in dataloaders}\n",
        "print(f'dataset_sizes = {dataset_sizes}')"
      ],
      "metadata": {
        "colab": {
          "base_uri": "https://localhost:8080/"
        },
        "id": "ufbgR_0ZXxBX",
        "outputId": "11befd77-75a8-4d7f-c627-bd0882cbc1c5"
      },
      "execution_count": null,
      "outputs": [
        {
          "output_type": "stream",
          "name": "stdout",
          "text": [
            "dataset_sizes = {'train': 1000, 'val': 1000, 'test': 1000}\n"
          ]
        }
      ]
    },
    {
      "cell_type": "markdown",
      "source": [
        "### Defining the LSTM Model for Sequence Prediction\n",
        "\n",
        "#### **Class: `LSTM`**\n",
        "This class implements a Long Short-Term Memory (LSTM) neural network for sequence modeling, designed to handle sequential data like text or time series.\n",
        "\n",
        "#### **Key Components**\n",
        "1. **Initialization (`__init__`)**:\n",
        "   - **`input_size`**: Size of the input features (number of unique words in the vocabulary).\n",
        "   - **`hidden_size`**: Number of features in the hidden state of the LSTM.\n",
        "   - **`output_size`**: Number of output features (e.g., vocabulary size for sequence prediction).\n",
        "   - **`dropout`**: Dropout probability to reduce overfitting (default: 0.3).\n",
        "   - **Layers**:\n",
        "     - **`nn.LSTM`**:\n",
        "       - Two-layer LSTM with dropout between layers.\n",
        "       - Processes sequential input data and captures temporal dependencies.\n",
        "     - **`nn.Linear`**:\n",
        "       - Fully connected layer that maps the LSTM's hidden state to the output space (e.g., vocabulary).\n",
        "     - **`nn.Dropout`**:\n",
        "       - Adds regularization to prevent overfitting, applied before the fully connected layer.\n",
        "\n",
        "2. **Forward Pass (`forward`)**:\n",
        "   - **Input**:\n",
        "     - `input`: Input tensor representing the sequence.\n",
        "     - `hidden`: Hidden state from the previous timestep.\n",
        "   - **Steps**:\n",
        "     1. Passes the input and hidden state through the LSTM layer.\n",
        "     2. Applies dropout to the last output of the LSTM (`output[-1]`).\n",
        "     3. Passes the result through the fully connected layer for final predictions.\n",
        "   - **Output**:\n",
        "     - `output`: Predicted values for the next word in the sequence.\n",
        "     - `hidden`: Updated hidden state for the next timestep.\n",
        "\n",
        "3. **Initialize Hidden State (`initHidden`)**:\n",
        "   - Creates initial hidden and cell states filled with zeros.\n",
        "   - Dimensions:\n",
        "     - Number of layers: `2` (since the LSTM has two layers).\n",
        "     - Batch size: Number of sequences in the batch.\n",
        "     - Hidden size: Number of features in the LSTM's hidden state.\n"
      ],
      "metadata": {
        "id": "5o9r-Is-doDB"
      }
    },
    {
      "cell_type": "code",
      "source": [
        "class LSTM(nn.Module):\n",
        "    def __init__(self, input_size, hidden_size, output_size, dropout=0.3):\n",
        "        super(LSTM, self).__init__()\n",
        "        self.hidden_size = hidden_size\n",
        "        # Add dropout to the LSTM layer\n",
        "        self.lstm = nn.LSTM(input_size, hidden_size, num_layers=2, dropout=dropout)  # Dropout between layers\n",
        "        self.fc = nn.Linear(hidden_size, output_size)\n",
        "        self.dropout = nn.Dropout(dropout)  # Dropout before the fully connected layer\n",
        "\n",
        "    def forward(self, input, hidden):\n",
        "        output, hidden = self.lstm(input, hidden)\n",
        "        output = self.dropout(output[-1])  # Apply dropout before the fully connected layer\n",
        "        output = self.fc(output)\n",
        "        return output, hidden\n",
        "\n",
        "    def initHidden(self, batch_size):\n",
        "        return (torch.zeros(2, batch_size, self.hidden_size).to(device),\n",
        "                torch.zeros(2, batch_size, self.hidden_size).to(device))"
      ],
      "metadata": {
        "id": "iKtYVa_nYtpJ"
      },
      "execution_count": null,
      "outputs": []
    },
    {
      "cell_type": "markdown",
      "source": [
        "### Initializing the LSTM Model\n",
        "\n",
        "#### **Model Parameters**\n",
        "1. **`input_size`**:\n",
        "   - Calculated as `len(english_dictionary) + 1`.\n",
        "   - Represents the size of the vocabulary plus one additional index for the End-of-Sequence (EOS) token.\n",
        "\n",
        "2. **`hidden_size`**:\n",
        "   - Set to `128`.\n",
        "   - Defines the number of features in the hidden state of the LSTM.\n",
        "   - A higher hidden size enables the model to capture more complex patterns.\n",
        "\n",
        "3. **`output_size`**:\n",
        "   - Same as `input_size` (`len(english_dictionary) + 1`).\n",
        "   - Matches the vocabulary size plus EOS for predicting the next word in the sequence.\n",
        "\n",
        "#### **Model Initialization**\n",
        "- **`lstm_model = LSTM(input_size, hidden_size, output_size).to(device)`**:\n",
        "  - Creates an instance of the `LSTM` model with the specified input size, hidden size, and output size.\n",
        "  - Moves the model to the computation device (`GPU` if available, otherwise `CPU`).\n",
        "\n",
        "#### **Purpose**\n",
        "- The initialized `lstm_model` is ready to process input sequences, predict the next word, and learn temporal dependencies in the data.\n"
      ],
      "metadata": {
        "id": "owqrYOywdvxt"
      }
    },
    {
      "cell_type": "code",
      "source": [
        "input_size = len(english_dictionary) + 1\n",
        "hidden_size = 128\n",
        "output_size = len(english_dictionary) + 1\n",
        "\n",
        "lstm_model = LSTM(input_size=input_size, hidden_size=hidden_size, output_size=output_size).to(device)"
      ],
      "metadata": {
        "id": "3FeMrYCNaVM4"
      },
      "execution_count": null,
      "outputs": []
    },
    {
      "cell_type": "markdown",
      "source": [
        "### Hyperparameter Configuration\n",
        "\n",
        "#### **Learning Rate**\n",
        "- **`learning_rate = 0.001`**:\n",
        "  - Determines the step size for updating model weights during training.\n",
        "  - A moderate value ensures stable convergence without overshooting the optimal solution.\n",
        "\n",
        "#### **Number of Epochs**\n",
        "- **`num_epochs = 10`**:\n",
        "  - Specifies the number of complete passes through the entire training dataset.\n",
        "  - A balance between training time and model performance.\n",
        "\n",
        "#### **Weight Decay**\n",
        "- **`weight_decay = 0.01`**:\n",
        "  - Implements L2 regularization, which adds a penalty for large weight values.\n",
        "  - Helps prevent overfitting by encouraging the model to learn simpler patterns.\n",
        "\n"
      ],
      "metadata": {
        "id": "9dgxVKX9eAYu"
      }
    },
    {
      "cell_type": "code",
      "source": [
        "learning_rate = 0.001\n",
        "num_epochs = 10\n",
        "weight_decay = 0.01  # L2 regularization parameter"
      ],
      "metadata": {
        "id": "jxnYEiZUbYrv"
      },
      "execution_count": null,
      "outputs": []
    },
    {
      "cell_type": "markdown",
      "source": [
        "### Training the LSTM Model with Early Stopping\n",
        "\n",
        "#### **Function: `train_lstm`**\n",
        "This function trains the LSTM model, evaluates it on validation and test datasets, and incorporates early stopping to prevent overfitting.\n",
        "\n",
        "#### **Parameters**\n",
        "1. **`model`**: The LSTM model to be trained.\n",
        "2. **`dataloaders`**: A dictionary containing data loaders for training, validation, and testing datasets.\n",
        "3. **`dataset_sizes`**: A dictionary specifying the size of each dataset phase (`train`, `val`, `test`).\n",
        "4. **`criterion`**: The loss function used to calculate errors (e.g., CrossEntropyLoss).\n",
        "5. **`optimizer`**: The optimization algorithm to update model weights.\n",
        "6. **`scheduler`**: A learning rate scheduler to adjust the learning rate dynamically.\n",
        "7. **`num_epochs`**: Number of epochs for training (default: 25).\n",
        "8. **`patience`**: Number of epochs to wait for improvement before stopping (default: 3).\n",
        "\n",
        "#### **Key Features**\n",
        "1. **Training and Evaluation**:\n",
        "   - Alternates between training and evaluation phases:\n",
        "     - **Training Phase**:\n",
        "       - Updates model weights using backpropagation.\n",
        "     - **Validation and Test Phases**:\n",
        "       - Evaluates the model without updating weights.\n",
        "\n",
        "2. **Loss Tracking**:\n",
        "   - Tracks and stores loss for each phase (`train`, `val`, `test`) over epochs.\n",
        "\n",
        "3. **Early Stopping**:\n",
        "   - Monitors validation loss:\n",
        "     - If no improvement is observed for `patience` epochs, training stops early.\n",
        "\n",
        "4. **Best Model Weights**:\n",
        "   - Saves the model weights corresponding to the lowest validation loss.\n",
        "\n",
        "#### **Workflow**\n",
        "1. **Epoch Loop**:\n",
        "   - Iterates over the specified number of epochs (`num_epochs`).\n",
        "2. **Phase Loop**:\n",
        "   - For each epoch, processes data in three phases: `train`, `val`, and `test`.\n",
        "3. **Sequence Handling**:\n",
        "   - Iterates through each time step of the sequence to compute loss for predictions.\n",
        "\n"
      ],
      "metadata": {
        "id": "T2pBmxdReKPL"
      }
    },
    {
      "cell_type": "code",
      "source": [
        "def train_lstm(model, dataloaders, dataset_sizes, criterion, optimizer, scheduler, num_epochs=25, patience=3):\n",
        "    since = time.time()\n",
        "    best_model_wts = copy.deepcopy(model.state_dict())\n",
        "    best_loss = np.inf\n",
        "    epochs_no_improve = 0  # Counter for early stopping\n",
        "\n",
        "    training_curves = {'train_loss': [], 'val_loss': [], 'test_loss': []}\n",
        "\n",
        "    for epoch in range(num_epochs):\n",
        "        print(f'\\nEpoch {epoch+1}/{num_epochs}')\n",
        "        print('-' * 10)\n",
        "\n",
        "        for phase in ['train', 'val', 'test']:\n",
        "            model.train() if phase == 'train' else model.eval()\n",
        "            running_loss = 0.0\n",
        "\n",
        "            for input_sequence, target_sequence in dataloaders[phase]:\n",
        "                hidden = model.initHidden(batch_size=input_sequence.size(1))\n",
        "\n",
        "                current_input_sequence = input_sequence.unsqueeze(1).to(device)\n",
        "                current_target_sequence = target_sequence.to(device)\n",
        "\n",
        "                optimizer.zero_grad()\n",
        "                with torch.set_grad_enabled(phase == 'train'):\n",
        "                    loss = 0\n",
        "                    for i in range(current_input_sequence.size(0)):\n",
        "                        current_hidden = (hidden[0].to(device), hidden[1].to(device))\n",
        "                        output, hidden = model(current_input_sequence[i], current_hidden)\n",
        "                        l = criterion(output, current_target_sequence[i])\n",
        "                        loss += l\n",
        "\n",
        "                    if phase == 'train':\n",
        "                        loss.backward()\n",
        "                        optimizer.step()\n",
        "\n",
        "                running_loss += loss.item() / current_input_sequence.size(0)\n",
        "\n",
        "            if phase == 'train':\n",
        "                scheduler.step()\n",
        "\n",
        "            epoch_loss = running_loss / dataset_sizes[phase]\n",
        "            training_curves[f'{phase}_loss'].append(epoch_loss)\n",
        "\n",
        "            print(f'{phase:5} Loss: {epoch_loss:.4f}')\n",
        "\n",
        "            # Early stopping check on validation loss\n",
        "            if phase == 'val':\n",
        "                if epoch_loss < best_loss:\n",
        "                    best_loss = epoch_loss\n",
        "                    best_model_wts = copy.deepcopy(model.state_dict())\n",
        "                    epochs_no_improve = 0  # Reset counter if improvement is seen\n",
        "                else:\n",
        "                    epochs_no_improve += 1\n",
        "\n",
        "        # Check if early stopping is triggered\n",
        "        if epochs_no_improve >= patience:\n",
        "            print(f\"Early stopping triggered after {epoch+1} epochs.\")\n",
        "            break\n",
        "\n",
        "    time_elapsed = time.time() - since\n",
        "    print(f'\\nTraining complete in {time_elapsed // 60:.0f}m {time_elapsed % 60:.0f}s')\n",
        "    print(f'Best val Loss: {best_loss:.4f}')\n",
        "\n",
        "    model.load_state_dict(best_model_wts)\n",
        "    return model, training_curves"
      ],
      "metadata": {
        "id": "QF1RMRcea34y"
      },
      "execution_count": null,
      "outputs": []
    },
    {
      "cell_type": "markdown",
      "source": [
        "### Predicting the Next Words in a Sequence\n",
        "\n",
        "#### **Function: `predict`**\n",
        "This function generates predictions for the next words in a sequence using the trained LSTM model, simulating text generation or sequence continuation.\n",
        "\n",
        "#### **Parameters**\n",
        "1. **`model`**: The trained LSTM model.\n",
        "2. **`word_dictionary`**: Dictionary mapping words to their unique indices.\n",
        "3. **`word_list`**: List of words corresponding to indices in the dictionary.\n",
        "4. **`input_sentence`**: The initial sentence provided for prediction.\n",
        "5. **`max_length`**: The maximum number of words to generate (default: 20).\n",
        "\n",
        "#### **How It Works**\n",
        "1. **Prepare the Input**:\n",
        "   - Converts the `input_sentence` into a one-hot encoded tensor using `create_input_tensor`.\n",
        "   - Initializes the hidden state for the model.\n",
        "\n",
        "2. **Process the Input Sequence**:\n",
        "   - Feeds the input tensor into the model word by word to process the initial sequence.\n",
        "\n",
        "3. **Generate Predictions**:\n",
        "   - Iteratively generates words up to `max_length`:\n",
        "     - Uses `output.topk(1)` to get the index of the most probable word.\n",
        "     - Stops if the **End-of-Sequence (EOS)** token is predicted.\n",
        "     - Appends the predicted word to `output_sentence`.\n",
        "\n",
        "4. **Update the Input**:\n",
        "   - Converts the predicted word into a one-hot encoded tensor and feeds it back into the model for the next prediction.\n",
        "\n",
        "5. **Return**:\n",
        "   - The final predicted sentence after the loop ends.\n"
      ],
      "metadata": {
        "id": "JIj_7bsFeVQp"
      }
    },
    {
      "cell_type": "code",
      "source": [
        "def predict(model, word_dictionary, word_list, input_sentence, max_length=20):\n",
        "    output_sentence = input_sentence + \" \"\n",
        "    tensor = create_input_tensor(input_sentence, word_dictionary)\n",
        "    hidden = model.initHidden(batch_size=1)\n",
        "    current_input_sequence = tensor.to(device)\n",
        "\n",
        "    for i in range(current_input_sequence.size(0)):\n",
        "        current_hidden = (hidden[0].to(device), hidden[1].to(device))\n",
        "        output, hidden = model(current_input_sequence[i], current_hidden)\n",
        "\n",
        "    for _ in range(max_length):\n",
        "        topv, topi = output.topk(1)\n",
        "        topi = topi[0][0].item()\n",
        "\n",
        "        if topi == len(word_dictionary):\n",
        "            break\n",
        "\n",
        "        word = word_list[topi]\n",
        "        output_sentence += word + \" \"\n",
        "\n",
        "        input = create_input_tensor(word, word_dictionary).to(device)\n",
        "        output, hidden = model(input[0], hidden)\n",
        "\n",
        "    return output_sentence.strip()"
      ],
      "metadata": {
        "id": "TRG8tQ-qbVvE"
      },
      "execution_count": null,
      "outputs": []
    },
    {
      "cell_type": "markdown",
      "source": [
        "### Training the LSTM Model with Optimizer and Scheduler\n",
        "\n",
        "#### **1. Loss Function**\n",
        "- **`criterion = nn.CrossEntropyLoss()`**:\n",
        "  - Measures the difference between the model's predictions and the actual target values.\n",
        "  - Suitable for multi-class classification tasks like predicting the next word in a sequence.\n",
        "\n",
        "#### **2. Optimizer**\n",
        "- **`optimizer = torch.optim.Adam(lstm_model.parameters(), lr=learning_rate, weight_decay=weight_decay)`**:\n",
        "  - Updates the model's weights during training.\n",
        "  - **Learning rate (`lr=learning_rate`)**: Controls the step size of weight updates.\n",
        "  - **Weight decay (`weight_decay=0.01`)**: Implements L2 regularization to reduce overfitting.\n",
        "\n",
        "#### **3. Scheduler**\n",
        "- **`scheduler = torch.optim.lr_scheduler.ExponentialLR(optimizer, gamma=0.95)`**:\n",
        "  - Gradually reduces the learning rate by multiplying it with `gamma=0.95` after each epoch.\n",
        "  - Helps the model converge by taking smaller optimization steps as training progresses.\n",
        "\n",
        "#### **4. Training the Model**\n",
        "- **`train_lstm`**:\n",
        "  - Trains the LSTM model using the specified dataloaders, loss function, optimizer, and scheduler.\n",
        "  - Tracks the training, validation, and test losses for visualization.\n",
        "  - Implements early stopping to halt training if validation loss does not improve for a set number of epochs (`patience`).\n",
        "\n"
      ],
      "metadata": {
        "id": "0cqRViDeeg45"
      }
    },
    {
      "cell_type": "code",
      "source": [
        "criterion = nn.CrossEntropyLoss()\n",
        "optimizer = torch.optim.Adam(lstm_model.parameters(), lr=learning_rate, weight_decay=weight_decay)\n",
        "scheduler = torch.optim.lr_scheduler.ExponentialLR(optimizer, gamma=0.95)\n",
        "\n",
        "# Train the model and collect training curves for visualization\n",
        "lstm_model, training_curves = train_lstm(lstm_model, dataloaders, dataset_sizes,\n",
        "                                         criterion, optimizer, scheduler, num_epochs=num_epochs)\n"
      ],
      "metadata": {
        "colab": {
          "base_uri": "https://localhost:8080/"
        },
        "id": "rHcKr7wMcSLL",
        "outputId": "52a7a59e-027f-4a13-c0f2-537ed82df803"
      },
      "execution_count": null,
      "outputs": [
        {
          "output_type": "stream",
          "name": "stdout",
          "text": [
            "\n",
            "Epoch 1/10\n",
            "----------\n",
            "train Loss: 6.0490\n",
            "val   Loss: 5.7535\n",
            "test  Loss: 5.7858\n",
            "\n",
            "Epoch 2/10\n",
            "----------\n",
            "train Loss: 5.7480\n",
            "val   Loss: 5.7057\n",
            "test  Loss: 5.7323\n",
            "\n",
            "Epoch 3/10\n",
            "----------\n",
            "train Loss: 5.6686\n",
            "val   Loss: 5.6903\n",
            "test  Loss: 5.7147\n",
            "\n",
            "Epoch 4/10\n",
            "----------\n",
            "train Loss: 5.6148\n",
            "val   Loss: 5.6891\n",
            "test  Loss: 5.7155\n",
            "\n",
            "Epoch 5/10\n",
            "----------\n",
            "train Loss: 5.5523\n",
            "val   Loss: 5.6916\n",
            "test  Loss: 5.7185\n",
            "\n",
            "Epoch 6/10\n",
            "----------\n",
            "train Loss: 5.5104\n",
            "val   Loss: 5.6894\n",
            "test  Loss: 5.7134\n",
            "\n",
            "Epoch 7/10\n",
            "----------\n",
            "train Loss: 5.4683\n",
            "val   Loss: 5.6866\n",
            "test  Loss: 5.7094\n",
            "\n",
            "Epoch 8/10\n",
            "----------\n",
            "train Loss: 5.4368\n",
            "val   Loss: 5.6807\n",
            "test  Loss: 5.7049\n",
            "\n",
            "Epoch 9/10\n",
            "----------\n",
            "train Loss: 5.3943\n",
            "val   Loss: 5.6769\n",
            "test  Loss: 5.7025\n",
            "\n",
            "Epoch 10/10\n",
            "----------\n",
            "train Loss: 5.3714\n",
            "val   Loss: 5.6692\n",
            "test  Loss: 5.6964\n",
            "\n",
            "Training complete in 2m 38s\n",
            "Best val Loss: 5.6692\n"
          ]
        }
      ]
    },
    {
      "cell_type": "markdown",
      "source": [
        "### Plotting Training Curves\n",
        "\n",
        "#### **Function: `plot_training_curves`**\n",
        "This function visualizes the training progress by plotting the specified metrics (e.g., loss, accuracy) for different phases (`train`, `val`, `test`) over epochs.\n",
        "\n",
        "#### **Parameters**\n",
        "1. **`training_curves`**:\n",
        "   - A dictionary containing metrics like loss or accuracy for each phase (`train_loss`, `val_loss`, `test_loss`, etc.).\n",
        "   - These metrics are tracked over epochs during training.\n",
        "2. **`phases`**:\n",
        "   - A list of dataset phases to plot (default: `['train', 'val', 'test']`).\n",
        "   - Each phase corresponds to a key in the `training_curves` dictionary.\n",
        "3. **`metrics`**:\n",
        "   - A list of metrics to visualize (default: `['loss']`).\n",
        "   - Common metrics include `loss` and `accuracy`.\n",
        "\n",
        "#### **How It Works**\n",
        "1. **Epoch Range**:\n",
        "   - Creates a list of epochs based on the length of the training curve for the training phase.\n",
        "2. **Metric Loop**:\n",
        "   - For each metric in the `metrics` list:\n",
        "     - Creates a new figure for the metric.\n",
        "     - Plots the values of the metric for each specified phase (e.g., train, val, test).\n",
        "3. **Labels and Legends**:\n",
        "   - Adds appropriate titles, axis labels, and legends to make the plot easy to interpret.\n"
      ],
      "metadata": {
        "id": "uv65lawYev8Y"
      }
    },
    {
      "cell_type": "code",
      "source": [
        "# Plotting function to visualize training curves\n",
        "def plot_training_curves(training_curves, phases=['train', 'val', 'test'], metrics=['loss']):\n",
        "    epochs = list(range(len(training_curves['train_loss'])))\n",
        "    for metric in metrics:\n",
        "        plt.figure()\n",
        "        plt.title(f'Training curves - {metric}')\n",
        "        for phase in phases:\n",
        "            key = phase + '_' + metric\n",
        "            if key in training_curves:\n",
        "                plt.plot(epochs, training_curves[key], label=phase)\n",
        "        plt.xlabel('Epoch')\n",
        "        plt.ylabel(metric.capitalize())\n",
        "        plt.legend()\n",
        "        plt.show()"
      ],
      "metadata": {
        "id": "xXZR16rihdYP"
      },
      "execution_count": null,
      "outputs": []
    },
    {
      "cell_type": "markdown",
      "source": [
        "### Plotting Training Curves for All Phases\n",
        "\n",
        "#### **Code: `plot_training_curves(training_curves, phases=['train', 'val', 'test'])`**\n",
        "This code generates visualizations of the specified training metrics (e.g., loss) for the `train`, `val`, and `test` phases over all epochs.\n",
        "\n",
        "#### **Purpose**\n",
        "- To track the progress of training and evaluate the model's performance across different dataset phases (training, validation, and testing).\n",
        "- Helps in identifying patterns such as overfitting, underfitting, or steady learning.\n",
        "\n",
        "#### **Parameters**\n",
        "1. **`training_curves`**:\n",
        "   - A dictionary containing metrics like loss for each phase (e.g., `train_loss`, `val_loss`, `test_loss`) over epochs.\n",
        "2. **`phases=['train', 'val', 'test']`**:\n",
        "   - Specifies which dataset phases to include in the plot.\n",
        "\n",
        "#### **Key Features**\n",
        "- Plots metrics for all phases on a single graph for easy comparison.\n",
        "- Automatically extracts and plots data based on the keys in `training_curves`.\n",
        "\n",
        "#### **Expected Output**\n",
        "1. **Training Curves**:\n",
        "   - A line plot for each phase (`train`, `val`, `test`) showing the value of a metric (e.g., loss) over epochs.\n",
        "   - Example: If the loss decreases steadily for training but increases for validation, this may indicate overfitting.\n"
      ],
      "metadata": {
        "id": "d8rnvXgfe8WW"
      }
    },
    {
      "cell_type": "code",
      "source": [
        "plot_training_curves(training_curves, phases=['train', 'val', 'test'])"
      ],
      "metadata": {
        "colab": {
          "base_uri": "https://localhost:8080/",
          "height": 472
        },
        "id": "m3oIwd0_hjqS",
        "outputId": "7f6fb1f8-1255-4ca4-deec-faef95d8acbc"
      },
      "execution_count": null,
      "outputs": [
        {
          "output_type": "display_data",
          "data": {
            "text/plain": [
              "<Figure size 640x480 with 1 Axes>"
            ],
            "image/png": "[encoded data removed]"
          },
          "metadata": {}
        }
      ]
    }
  ]
}